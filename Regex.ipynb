{
  "nbformat": 4,
  "nbformat_minor": 0,
  "metadata": {
    "colab": {
      "provenance": [],
      "authorship_tag": "ABX9TyPJ8jOelxFpQil8dULzucOu",
      "include_colab_link": true
    },
    "kernelspec": {
      "name": "python3",
      "display_name": "Python 3"
    },
    "language_info": {
      "name": "python"
    }
  },
  "cells": [
    {
      "cell_type": "markdown",
      "metadata": {
        "id": "view-in-github",
        "colab_type": "text"
      },
      "source": [
        "<a href=\"https://colab.research.google.com/github/Vaish1116/Workshop/blob/main/Regex.ipynb\" target=\"_parent\"><img src=\"https://colab.research.google.com/assets/colab-badge.svg\" alt=\"Open In Colab\"/></a>"
      ]
    },
    {
      "cell_type": "markdown",
      "source": [
        "1. Import Libraries"
      ],
      "metadata": {
        "id": "SLn7m6W1kApH"
      }
    },
    {
      "cell_type": "code",
      "execution_count": 1,
      "metadata": {
        "id": "BMpjmk9OjppS"
      },
      "outputs": [],
      "source": [
        "import re #Importing regular expression module"
      ]
    },
    {
      "cell_type": "markdown",
      "source": [
        "2. Raw Strings"
      ],
      "metadata": {
        "id": "bnmkebMfka5S"
      }
    },
    {
      "cell_type": "code",
      "source": [
        "print(\"Hello\\nworld\") #What if r is not used before string"
      ],
      "metadata": {
        "colab": {
          "base_uri": "https://localhost:8080/"
        },
        "id": "XtPVwEOIkjlG",
        "outputId": "05def00d-5c05-4357-9ccc-499ef0413e55"
      },
      "execution_count": 2,
      "outputs": [
        {
          "output_type": "stream",
          "name": "stdout",
          "text": [
            "Hello\n",
            "world\n"
          ]
        }
      ]
    },
    {
      "cell_type": "code",
      "source": [
        "print(r\"Hello\\nworld\") #What if r is used before string"
      ],
      "metadata": {
        "colab": {
          "base_uri": "https://localhost:8080/"
        },
        "id": "VhKFOiimk5Cp",
        "outputId": "081825d5-10dd-4c98-9043-de2cf81b8631"
      },
      "execution_count": 4,
      "outputs": [
        {
          "output_type": "stream",
          "name": "stdout",
          "text": [
            "Hello\\nworld\n"
          ]
        }
      ]
    },
    {
      "cell_type": "markdown",
      "source": [
        "3. search Operation"
      ],
      "metadata": {
        "id": "YPJYyrsllJOm"
      }
    },
    {
      "cell_type": "code",
      "source": [
        "test_string = \"123abc456789abc123ABC\" #sample string"
      ],
      "metadata": {
        "id": "sAQjGKEmlIe9"
      },
      "execution_count": 5,
      "outputs": []
    },
    {
      "cell_type": "code",
      "source": [
        "# re.match()"
      ],
      "metadata": {
        "id": "rN1TSKhTmt5U"
      },
      "execution_count": 6,
      "outputs": []
    },
    {
      "cell_type": "code",
      "source": [
        "pattern = re.compile(r\"abc\")  #compiling\n",
        "\n",
        "match = re.match(pattern, test_string) #match gives Match object only if pattern is found at beginning else None"
      ],
      "metadata": {
        "id": "fdORji0zmz_Y"
      },
      "execution_count": 7,
      "outputs": []
    },
    {
      "cell_type": "code",
      "source": [
        "print(match)"
      ],
      "metadata": {
        "colab": {
          "base_uri": "https://localhost:8080/"
        },
        "id": "HbM9jP5Im6oY",
        "outputId": "76b969da-e671-4e16-c456-e336e4792f49"
      },
      "execution_count": 8,
      "outputs": [
        {
          "output_type": "stream",
          "name": "stdout",
          "text": [
            "None\n"
          ]
        }
      ]
    },
    {
      "cell_type": "code",
      "source": [
        "pattern = re.compile(r\"123\")\n",
        "\n",
        "match = re.match(pattern, test_string)  #match gives Match object only if pattern is found at beginning else None\n",
        "print(match)"
      ],
      "metadata": {
        "colab": {
          "base_uri": "https://localhost:8080/"
        },
        "id": "H_LplG1Pm_Op",
        "outputId": "ce5b3883-90d5-48db-e8a3-f69827d366c6"
      },
      "execution_count": 9,
      "outputs": [
        {
          "output_type": "stream",
          "name": "stdout",
          "text": [
            "<re.Match object; span=(0, 3), match='123'>\n"
          ]
        }
      ]
    },
    {
      "cell_type": "code",
      "source": [
        "match.span() #span()method of Match object which gives a tuple of start and (end+1) indices"
      ],
      "metadata": {
        "colab": {
          "base_uri": "https://localhost:8080/"
        },
        "id": "pvIbq2UznEsV",
        "outputId": "70928453-5d45-4c54-fcdc-8f590c852503"
      },
      "execution_count": 10,
      "outputs": [
        {
          "output_type": "execute_result",
          "data": {
            "text/plain": [
              "(0, 3)"
            ]
          },
          "metadata": {},
          "execution_count": 10
        }
      ]
    },
    {
      "cell_type": "code",
      "source": [
        "start_index, end_index = match.span() #tuple unwrapping\n",
        "\n",
        "test_string[start_index:end_index] #slicing"
      ],
      "metadata": {
        "colab": {
          "base_uri": "https://localhost:8080/",
          "height": 35
        },
        "id": "_yApoonxnKUC",
        "outputId": "b4b97cfd-1540-4820-dd5c-e7b202feff01"
      },
      "execution_count": 11,
      "outputs": [
        {
          "output_type": "execute_result",
          "data": {
            "text/plain": [
              "'123'"
            ],
            "application/vnd.google.colaboratory.intrinsic+json": {
              "type": "string"
            }
          },
          "metadata": {},
          "execution_count": 11
        }
      ]
    },
    {
      "cell_type": "code",
      "source": [
        "match.start() #start() method of Match object returnss starting index"
      ],
      "metadata": {
        "colab": {
          "base_uri": "https://localhost:8080/"
        },
        "id": "ptZh4Z62nKP3",
        "outputId": "f0752dd7-5480-4dd0-c020-915d5924717c"
      },
      "execution_count": 12,
      "outputs": [
        {
          "output_type": "execute_result",
          "data": {
            "text/plain": [
              "0"
            ]
          },
          "metadata": {},
          "execution_count": 12
        }
      ]
    },
    {
      "cell_type": "code",
      "source": [
        "match.end()  #end() method of Match object returns ending +1 index"
      ],
      "metadata": {
        "colab": {
          "base_uri": "https://localhost:8080/"
        },
        "id": "qdA75anJnUsh",
        "outputId": "431ccd5d-96e4-48f0-9e93-768dde979041"
      },
      "execution_count": 13,
      "outputs": [
        {
          "output_type": "execute_result",
          "data": {
            "text/plain": [
              "3"
            ]
          },
          "metadata": {},
          "execution_count": 13
        }
      ]
    },
    {
      "cell_type": "code",
      "source": [
        "match.group()   #group() method of Match object return the search pattern or we can say compile object used to search"
      ],
      "metadata": {
        "colab": {
          "base_uri": "https://localhost:8080/",
          "height": 35
        },
        "id": "k3thNiF0nc8w",
        "outputId": "3d8b321c-7b76-4257-9f0b-2419afddedc3"
      },
      "execution_count": 15,
      "outputs": [
        {
          "output_type": "execute_result",
          "data": {
            "text/plain": [
              "'123'"
            ],
            "application/vnd.google.colaboratory.intrinsic+json": {
              "type": "string"
            }
          },
          "metadata": {},
          "execution_count": 15
        }
      ]
    },
    {
      "cell_type": "code",
      "source": [
        "# re.search() --> returns only the first occuurence if found as a Match object"
      ],
      "metadata": {
        "id": "bRlFnlwTncpL"
      },
      "execution_count": 16,
      "outputs": []
    },
    {
      "cell_type": "code",
      "source": [
        "test_string"
      ],
      "metadata": {
        "colab": {
          "base_uri": "https://localhost:8080/",
          "height": 35
        },
        "id": "jG59r6M7ncWy",
        "outputId": "4d5faff2-3572-4147-c837-70d804419b67"
      },
      "execution_count": 17,
      "outputs": [
        {
          "output_type": "execute_result",
          "data": {
            "text/plain": [
              "'123abc456789abc123ABC'"
            ],
            "application/vnd.google.colaboratory.intrinsic+json": {
              "type": "string"
            }
          },
          "metadata": {},
          "execution_count": 17
        }
      ]
    },
    {
      "cell_type": "code",
      "source": [
        "pattern = re.compile(r\"abc\")\n",
        "\n",
        "match = re.search(pattern, test_string) # give pattern and memory reference of text/string from where to search\n",
        "match"
      ],
      "metadata": {
        "colab": {
          "base_uri": "https://localhost:8080/"
        },
        "id": "Inhl7bl0n7rj",
        "outputId": "5585af3d-ab45-43ee-f51b-eccf9c11d3f3"
      },
      "execution_count": 18,
      "outputs": [
        {
          "output_type": "execute_result",
          "data": {
            "text/plain": [
              "<re.Match object; span=(3, 6), match='abc'>"
            ]
          },
          "metadata": {},
          "execution_count": 18
        }
      ]
    },
    {
      "cell_type": "code",
      "source": [
        "match.group() #group() method of Match object return the search pattern or we can say compile object used to search"
      ],
      "metadata": {
        "colab": {
          "base_uri": "https://localhost:8080/",
          "height": 35
        },
        "id": "q13TCL_In7m0",
        "outputId": "0d3b7d8b-5e8c-4f0c-c860-450d48e5ee7b"
      },
      "execution_count": 19,
      "outputs": [
        {
          "output_type": "execute_result",
          "data": {
            "text/plain": [
              "'abc'"
            ],
            "application/vnd.google.colaboratory.intrinsic+json": {
              "type": "string"
            }
          },
          "metadata": {},
          "execution_count": 19
        }
      ]
    },
    {
      "cell_type": "code",
      "source": [
        "start_index, end_index = match.span()\n",
        "\n",
        "test_string[start_index:end_index]"
      ],
      "metadata": {
        "colab": {
          "base_uri": "https://localhost:8080/",
          "height": 35
        },
        "id": "VfPPg-SQn7iV",
        "outputId": "95e95cea-d08c-4bc6-b5dc-7b437ed45676"
      },
      "execution_count": 20,
      "outputs": [
        {
          "output_type": "execute_result",
          "data": {
            "text/plain": [
              "'abc'"
            ],
            "application/vnd.google.colaboratory.intrinsic+json": {
              "type": "string"
            }
          },
          "metadata": {},
          "execution_count": 20
        }
      ]
    },
    {
      "cell_type": "code",
      "source": [
        "# re.findall() --> returns LIST of all occurence, we cant use start end span group on this"
      ],
      "metadata": {
        "id": "FCXdf0T5n7d1"
      },
      "execution_count": 21,
      "outputs": []
    },
    {
      "cell_type": "code",
      "source": [
        "pattern = re.compile(r\"abc\")\n",
        "\n",
        "matches = re.findall(pattern, test_string)\n",
        "matches\n",
        "#matches.span()"
      ],
      "metadata": {
        "colab": {
          "base_uri": "https://localhost:8080/"
        },
        "id": "c-WcsQrLn7Zk",
        "outputId": "f8e4d885-b38a-4dc4-9c8d-bbe7b845074e"
      },
      "execution_count": 22,
      "outputs": [
        {
          "output_type": "execute_result",
          "data": {
            "text/plain": [
              "['abc', 'abc']"
            ]
          },
          "metadata": {},
          "execution_count": 22
        }
      ]
    },
    {
      "cell_type": "code",
      "source": [
        "# re.finditer() --> returns ITERABLE MATCH object , we can use start end span group on this"
      ],
      "metadata": {
        "id": "jx4Jt_--n7VQ"
      },
      "execution_count": 23,
      "outputs": []
    },
    {
      "cell_type": "code",
      "source": [
        "pattern = re.compile(r\"abc\")\n",
        "\n",
        "matches = re.finditer(pattern, test_string)\n",
        "\n",
        "for match in matches:\n",
        "\tprint(match)\n",
        "\t#print(match.span())"
      ],
      "metadata": {
        "colab": {
          "base_uri": "https://localhost:8080/"
        },
        "id": "5sajyhGVn7RT",
        "outputId": "dbbccc10-19bc-4349-fc58-bfcec8a87135"
      },
      "execution_count": 24,
      "outputs": [
        {
          "output_type": "stream",
          "name": "stdout",
          "text": [
            "<re.Match object; span=(3, 6), match='abc'>\n",
            "<re.Match object; span=(12, 15), match='abc'>\n"
          ]
        }
      ]
    },
    {
      "cell_type": "markdown",
      "source": [
        "4. Meta Characters"
      ],
      "metadata": {
        "id": "XZE-otCOohD0"
      }
    },
    {
      "cell_type": "code",
      "source": [
        "test_string_1 = \"123abc.456789abc123defGHI.ABC \\n xyz345WXYZ\""
      ],
      "metadata": {
        "id": "aHtlOHthn7Mw"
      },
      "execution_count": 25,
      "outputs": []
    },
    {
      "cell_type": "code",
      "source": [
        "test_string_2 = \"The cat sat on the mat with a bat and a hat.\""
      ],
      "metadata": {
        "id": "YBgNI1PzooJL"
      },
      "execution_count": 26,
      "outputs": []
    },
    {
      "cell_type": "code",
      "source": [
        "test_string_3 = \"The cat sat on the mat with a bat and a hat. $at, 8at, at.\""
      ],
      "metadata": {
        "id": "A8V1wB37opjP"
      },
      "execution_count": 27,
      "outputs": []
    },
    {
      "cell_type": "code",
      "source": [
        "text = \"\"\"Hello World!\n",
        "This is a test.\n",
        "Hello again!\n",
        "Python is fun.\n",
        "Hello Python\"\"\""
      ],
      "metadata": {
        "id": "Kf4VMsYfon5A"
      },
      "execution_count": 28,
      "outputs": []
    },
    {
      "cell_type": "markdown",
      "source": [
        "4.1 dot (.)"
      ],
      "metadata": {
        "id": "edid6NQXo-qA"
      }
    },
    {
      "cell_type": "code",
      "source": [
        "pattern = re.compile(r\".\") # ignores \\n character\n",
        "\n",
        "matches = re.finditer(pattern, test_string_1)\n",
        "\n",
        "for match in matches:\n",
        "\tprint(match)"
      ],
      "metadata": {
        "colab": {
          "base_uri": "https://localhost:8080/"
        },
        "id": "ORViA95Go64b",
        "outputId": "28320e2b-22de-4331-cbad-51aafcd2af96"
      },
      "execution_count": 29,
      "outputs": [
        {
          "output_type": "stream",
          "name": "stdout",
          "text": [
            "<re.Match object; span=(0, 1), match='1'>\n",
            "<re.Match object; span=(1, 2), match='2'>\n",
            "<re.Match object; span=(2, 3), match='3'>\n",
            "<re.Match object; span=(3, 4), match='a'>\n",
            "<re.Match object; span=(4, 5), match='b'>\n",
            "<re.Match object; span=(5, 6), match='c'>\n",
            "<re.Match object; span=(6, 7), match='.'>\n",
            "<re.Match object; span=(7, 8), match='4'>\n",
            "<re.Match object; span=(8, 9), match='5'>\n",
            "<re.Match object; span=(9, 10), match='6'>\n",
            "<re.Match object; span=(10, 11), match='7'>\n",
            "<re.Match object; span=(11, 12), match='8'>\n",
            "<re.Match object; span=(12, 13), match='9'>\n",
            "<re.Match object; span=(13, 14), match='a'>\n",
            "<re.Match object; span=(14, 15), match='b'>\n",
            "<re.Match object; span=(15, 16), match='c'>\n",
            "<re.Match object; span=(16, 17), match='1'>\n",
            "<re.Match object; span=(17, 18), match='2'>\n",
            "<re.Match object; span=(18, 19), match='3'>\n",
            "<re.Match object; span=(19, 20), match='d'>\n",
            "<re.Match object; span=(20, 21), match='e'>\n",
            "<re.Match object; span=(21, 22), match='f'>\n",
            "<re.Match object; span=(22, 23), match='G'>\n",
            "<re.Match object; span=(23, 24), match='H'>\n",
            "<re.Match object; span=(24, 25), match='I'>\n",
            "<re.Match object; span=(25, 26), match='.'>\n",
            "<re.Match object; span=(26, 27), match='A'>\n",
            "<re.Match object; span=(27, 28), match='B'>\n",
            "<re.Match object; span=(28, 29), match='C'>\n",
            "<re.Match object; span=(29, 30), match=' '>\n",
            "<re.Match object; span=(31, 32), match=' '>\n",
            "<re.Match object; span=(32, 33), match='x'>\n",
            "<re.Match object; span=(33, 34), match='y'>\n",
            "<re.Match object; span=(34, 35), match='z'>\n",
            "<re.Match object; span=(35, 36), match='3'>\n",
            "<re.Match object; span=(36, 37), match='4'>\n",
            "<re.Match object; span=(37, 38), match='5'>\n",
            "<re.Match object; span=(38, 39), match='W'>\n",
            "<re.Match object; span=(39, 40), match='X'>\n",
            "<re.Match object; span=(40, 41), match='Y'>\n",
            "<re.Match object; span=(41, 42), match='Z'>\n"
          ]
        }
      ]
    },
    {
      "cell_type": "code",
      "source": [
        "# dot meta character in string 2\n",
        "print(test_string_2, end=\"\\n\\n\")\n",
        "\n",
        "pattern = re.compile(r\".\")\n",
        "\n",
        "matches = re.finditer(pattern, test_string_2)\n",
        "\n",
        "for match in matches:\n",
        "\tprint(match)"
      ],
      "metadata": {
        "colab": {
          "base_uri": "https://localhost:8080/"
        },
        "id": "fK62rzy7o6oC",
        "outputId": "82d34d4b-ff54-485c-8223-98bb8310f056"
      },
      "execution_count": 30,
      "outputs": [
        {
          "output_type": "stream",
          "name": "stdout",
          "text": [
            "The cat sat on the mat with a bat and a hat.\n",
            "\n",
            "<re.Match object; span=(0, 1), match='T'>\n",
            "<re.Match object; span=(1, 2), match='h'>\n",
            "<re.Match object; span=(2, 3), match='e'>\n",
            "<re.Match object; span=(3, 4), match=' '>\n",
            "<re.Match object; span=(4, 5), match='c'>\n",
            "<re.Match object; span=(5, 6), match='a'>\n",
            "<re.Match object; span=(6, 7), match='t'>\n",
            "<re.Match object; span=(7, 8), match=' '>\n",
            "<re.Match object; span=(8, 9), match='s'>\n",
            "<re.Match object; span=(9, 10), match='a'>\n",
            "<re.Match object; span=(10, 11), match='t'>\n",
            "<re.Match object; span=(11, 12), match=' '>\n",
            "<re.Match object; span=(12, 13), match='o'>\n",
            "<re.Match object; span=(13, 14), match='n'>\n",
            "<re.Match object; span=(14, 15), match=' '>\n",
            "<re.Match object; span=(15, 16), match='t'>\n",
            "<re.Match object; span=(16, 17), match='h'>\n",
            "<re.Match object; span=(17, 18), match='e'>\n",
            "<re.Match object; span=(18, 19), match=' '>\n",
            "<re.Match object; span=(19, 20), match='m'>\n",
            "<re.Match object; span=(20, 21), match='a'>\n",
            "<re.Match object; span=(21, 22), match='t'>\n",
            "<re.Match object; span=(22, 23), match=' '>\n",
            "<re.Match object; span=(23, 24), match='w'>\n",
            "<re.Match object; span=(24, 25), match='i'>\n",
            "<re.Match object; span=(25, 26), match='t'>\n",
            "<re.Match object; span=(26, 27), match='h'>\n",
            "<re.Match object; span=(27, 28), match=' '>\n",
            "<re.Match object; span=(28, 29), match='a'>\n",
            "<re.Match object; span=(29, 30), match=' '>\n",
            "<re.Match object; span=(30, 31), match='b'>\n",
            "<re.Match object; span=(31, 32), match='a'>\n",
            "<re.Match object; span=(32, 33), match='t'>\n",
            "<re.Match object; span=(33, 34), match=' '>\n",
            "<re.Match object; span=(34, 35), match='a'>\n",
            "<re.Match object; span=(35, 36), match='n'>\n",
            "<re.Match object; span=(36, 37), match='d'>\n",
            "<re.Match object; span=(37, 38), match=' '>\n",
            "<re.Match object; span=(38, 39), match='a'>\n",
            "<re.Match object; span=(39, 40), match=' '>\n",
            "<re.Match object; span=(40, 41), match='h'>\n",
            "<re.Match object; span=(41, 42), match='a'>\n",
            "<re.Match object; span=(42, 43), match='t'>\n",
            "<re.Match object; span=(43, 44), match='.'>\n"
          ]
        }
      ]
    },
    {
      "cell_type": "code",
      "source": [
        "# dot meta character in string 3\n",
        "print(test_string_3, end=\"\\n\\n\")\n",
        "\n",
        "pattern = re.compile(r\".\")\n",
        "\n",
        "matches = re.finditer(pattern, test_string_3)\n",
        "\n",
        "for match in matches:\n",
        "\tprint(match)"
      ],
      "metadata": {
        "colab": {
          "base_uri": "https://localhost:8080/"
        },
        "id": "LlKu_ojio6ZX",
        "outputId": "b9f18b39-2af9-4d39-a1dd-b5a5f2400fdd"
      },
      "execution_count": 31,
      "outputs": [
        {
          "output_type": "stream",
          "name": "stdout",
          "text": [
            "The cat sat on the mat with a bat and a hat. $at, 8at, at.\n",
            "\n",
            "<re.Match object; span=(0, 1), match='T'>\n",
            "<re.Match object; span=(1, 2), match='h'>\n",
            "<re.Match object; span=(2, 3), match='e'>\n",
            "<re.Match object; span=(3, 4), match=' '>\n",
            "<re.Match object; span=(4, 5), match='c'>\n",
            "<re.Match object; span=(5, 6), match='a'>\n",
            "<re.Match object; span=(6, 7), match='t'>\n",
            "<re.Match object; span=(7, 8), match=' '>\n",
            "<re.Match object; span=(8, 9), match='s'>\n",
            "<re.Match object; span=(9, 10), match='a'>\n",
            "<re.Match object; span=(10, 11), match='t'>\n",
            "<re.Match object; span=(11, 12), match=' '>\n",
            "<re.Match object; span=(12, 13), match='o'>\n",
            "<re.Match object; span=(13, 14), match='n'>\n",
            "<re.Match object; span=(14, 15), match=' '>\n",
            "<re.Match object; span=(15, 16), match='t'>\n",
            "<re.Match object; span=(16, 17), match='h'>\n",
            "<re.Match object; span=(17, 18), match='e'>\n",
            "<re.Match object; span=(18, 19), match=' '>\n",
            "<re.Match object; span=(19, 20), match='m'>\n",
            "<re.Match object; span=(20, 21), match='a'>\n",
            "<re.Match object; span=(21, 22), match='t'>\n",
            "<re.Match object; span=(22, 23), match=' '>\n",
            "<re.Match object; span=(23, 24), match='w'>\n",
            "<re.Match object; span=(24, 25), match='i'>\n",
            "<re.Match object; span=(25, 26), match='t'>\n",
            "<re.Match object; span=(26, 27), match='h'>\n",
            "<re.Match object; span=(27, 28), match=' '>\n",
            "<re.Match object; span=(28, 29), match='a'>\n",
            "<re.Match object; span=(29, 30), match=' '>\n",
            "<re.Match object; span=(30, 31), match='b'>\n",
            "<re.Match object; span=(31, 32), match='a'>\n",
            "<re.Match object; span=(32, 33), match='t'>\n",
            "<re.Match object; span=(33, 34), match=' '>\n",
            "<re.Match object; span=(34, 35), match='a'>\n",
            "<re.Match object; span=(35, 36), match='n'>\n",
            "<re.Match object; span=(36, 37), match='d'>\n",
            "<re.Match object; span=(37, 38), match=' '>\n",
            "<re.Match object; span=(38, 39), match='a'>\n",
            "<re.Match object; span=(39, 40), match=' '>\n",
            "<re.Match object; span=(40, 41), match='h'>\n",
            "<re.Match object; span=(41, 42), match='a'>\n",
            "<re.Match object; span=(42, 43), match='t'>\n",
            "<re.Match object; span=(43, 44), match='.'>\n",
            "<re.Match object; span=(44, 45), match=' '>\n",
            "<re.Match object; span=(45, 46), match='$'>\n",
            "<re.Match object; span=(46, 47), match='a'>\n",
            "<re.Match object; span=(47, 48), match='t'>\n",
            "<re.Match object; span=(48, 49), match=','>\n",
            "<re.Match object; span=(49, 50), match=' '>\n",
            "<re.Match object; span=(50, 51), match='8'>\n",
            "<re.Match object; span=(51, 52), match='a'>\n",
            "<re.Match object; span=(52, 53), match='t'>\n",
            "<re.Match object; span=(53, 54), match=','>\n",
            "<re.Match object; span=(54, 55), match=' '>\n",
            "<re.Match object; span=(55, 56), match='a'>\n",
            "<re.Match object; span=(56, 57), match='t'>\n",
            "<re.Match object; span=(57, 58), match='.'>\n"
          ]
        }
      ]
    },
    {
      "cell_type": "markdown",
      "source": [
        "4.2 carat (^)"
      ],
      "metadata": {
        "id": "69Ylya6XpXRK"
      }
    },
    {
      "cell_type": "code",
      "source": [
        "# Search for pattern at the beginning of the string\n",
        "print(text, end=\"\\n\\n\")\n",
        "\n",
        "pattern = re.compile(r\"Hello\") # This gives all occurences\n",
        "\n",
        "matches = re.finditer(pattern, text)\n",
        "\n",
        "for match in matches:\n",
        "\tprint(match)"
      ],
      "metadata": {
        "colab": {
          "base_uri": "https://localhost:8080/"
        },
        "id": "FLs6HXNBpSk1",
        "outputId": "44637c47-651c-437c-9ccf-ac622fb50242"
      },
      "execution_count": 32,
      "outputs": [
        {
          "output_type": "stream",
          "name": "stdout",
          "text": [
            "Hello World!\n",
            "This is a test.\n",
            "Hello again!\n",
            "Python is fun.\n",
            "Hello Python\n",
            "\n",
            "<re.Match object; span=(0, 5), match='Hello'>\n",
            "<re.Match object; span=(29, 34), match='Hello'>\n",
            "<re.Match object; span=(57, 62), match='Hello'>\n"
          ]
        }
      ]
    },
    {
      "cell_type": "code",
      "source": [
        "print(text, end=\"\\n\\n\") # Search for pattern at the beginning of the string and stops searching after finding first occurence\n",
        "\n",
        "pattern = re.compile(r\"^Hello\")  # Single Occurence\n",
        "\n",
        "matches = re.finditer(pattern, text)\n",
        "\n",
        "for match in matches:\n",
        "\tprint(match)\n"
      ],
      "metadata": {
        "colab": {
          "base_uri": "https://localhost:8080/"
        },
        "id": "1s0Cpy76pSdn",
        "outputId": "882a5986-77d4-4ec1-8d9b-a335e1cd0a94"
      },
      "execution_count": 33,
      "outputs": [
        {
          "output_type": "stream",
          "name": "stdout",
          "text": [
            "Hello World!\n",
            "This is a test.\n",
            "Hello again!\n",
            "Python is fun.\n",
            "Hello Python\n",
            "\n",
            "<re.Match object; span=(0, 5), match='Hello'>\n"
          ]
        }
      ]
    },
    {
      "cell_type": "markdown",
      "source": [
        "4.3 dollar ($)"
      ],
      "metadata": {
        "id": "qjCQ2XWrpqMj"
      }
    },
    {
      "cell_type": "code",
      "source": [
        "print(text, end=\"\\n\\n\") # Search for pattern at the end of the string\n",
        "\n",
        "pattern = re.compile(r\"Python\") # gives all occurence\n",
        "\n",
        "matches = re.finditer(pattern, text)\n",
        "\n",
        "for match in matches:\n",
        "\tprint(match)"
      ],
      "metadata": {
        "colab": {
          "base_uri": "https://localhost:8080/"
        },
        "id": "UDoMZejdpji2",
        "outputId": "fc3434d4-c9ed-4004-8e41-310e2f15619a"
      },
      "execution_count": 34,
      "outputs": [
        {
          "output_type": "stream",
          "name": "stdout",
          "text": [
            "Hello World!\n",
            "This is a test.\n",
            "Hello again!\n",
            "Python is fun.\n",
            "Hello Python\n",
            "\n",
            "<re.Match object; span=(42, 48), match='Python'>\n",
            "<re.Match object; span=(63, 69), match='Python'>\n"
          ]
        }
      ]
    },
    {
      "cell_type": "code",
      "source": [
        "print(text, end=\"\\n\\n\") # Search for pattern at the end of the string and stops searching after finding first occurence\n",
        "\n",
        "pattern = re.compile(r\"Python$\") # gives only single occuurence\n",
        "\n",
        "matches = re.finditer(pattern, text)\n",
        "\n",
        "for match in matches:\n",
        "\tprint(match)"
      ],
      "metadata": {
        "colab": {
          "base_uri": "https://localhost:8080/"
        },
        "id": "djtRoJoEpjUf",
        "outputId": "310ccf2d-96c1-469e-c841-427b8a256815"
      },
      "execution_count": 35,
      "outputs": [
        {
          "output_type": "stream",
          "name": "stdout",
          "text": [
            "Hello World!\n",
            "This is a test.\n",
            "Hello again!\n",
            "Python is fun.\n",
            "Hello Python\n",
            "\n",
            "<re.Match object; span=(63, 69), match='Python'>\n"
          ]
        }
      ]
    },
    {
      "cell_type": "markdown",
      "source": [
        "5. Character Sets"
      ],
      "metadata": {
        "id": "JP-kv0pYp8QA"
      }
    },
    {
      "cell_type": "markdown",
      "source": [
        "5.1 Custom Character Sets"
      ],
      "metadata": {
        "id": "oDJzIVqUp9ma"
      }
    },
    {
      "cell_type": "code",
      "source": [
        "test_string = \"123abc.4567XYZ$89abc123  def%GHIxyz.ABC#i.\""
      ],
      "metadata": {
        "id": "WJF2LBn5p4nN"
      },
      "execution_count": 36,
      "outputs": []
    },
    {
      "cell_type": "markdown",
      "source": [
        "5.1.1 Literal Characters\n"
      ],
      "metadata": {
        "id": "4aN34qtzqMb1"
      }
    },
    {
      "cell_type": "code",
      "source": [
        "# vowels"
      ],
      "metadata": {
        "id": "cvfLGZMlp4T8"
      },
      "execution_count": null,
      "outputs": []
    },
    {
      "cell_type": "code",
      "source": [
        "print(test_string, end=\"\\n\\n\")\n",
        "\n",
        "pattern  = re.compile(r\"[aeiou]\") #search for mentioned characters and return a single character in []\n",
        "\n",
        "matches = re.finditer(pattern, test_string)\n",
        "\n",
        "for match in matches:\n",
        "\tprint(match)"
      ],
      "metadata": {
        "colab": {
          "base_uri": "https://localhost:8080/"
        },
        "id": "4GCMFSsOqUTt",
        "outputId": "3618adc4-c8e4-4d88-b4fb-597f03c45d02"
      },
      "execution_count": 37,
      "outputs": [
        {
          "output_type": "stream",
          "name": "stdout",
          "text": [
            "123abc.4567XYZ$89abc123  def%GHIxyz.ABC#i.\n",
            "\n",
            "<re.Match object; span=(3, 4), match='a'>\n",
            "<re.Match object; span=(17, 18), match='a'>\n",
            "<re.Match object; span=(26, 27), match='e'>\n",
            "<re.Match object; span=(40, 41), match='i'>\n"
          ]
        }
      ]
    },
    {
      "cell_type": "code",
      "source": [
        "print(test_string, end=\"\\n\\n\")\n",
        "\n",
        "pattern  = re.compile(r\"[aeiouAEIOU]\") # 2nd example\n",
        "\n",
        "matches = re.finditer(pattern, test_string) #finditer\n",
        "\n",
        "for match in matches:\n",
        "\tprint(match)"
      ],
      "metadata": {
        "colab": {
          "base_uri": "https://localhost:8080/"
        },
        "id": "d5JL3AakqbtR",
        "outputId": "3c4227d3-9f5a-4c91-f7c7-5fdd8e3e92f3"
      },
      "execution_count": 38,
      "outputs": [
        {
          "output_type": "stream",
          "name": "stdout",
          "text": [
            "123abc.4567XYZ$89abc123  def%GHIxyz.ABC#i.\n",
            "\n",
            "<re.Match object; span=(3, 4), match='a'>\n",
            "<re.Match object; span=(17, 18), match='a'>\n",
            "<re.Match object; span=(26, 27), match='e'>\n",
            "<re.Match object; span=(31, 32), match='I'>\n",
            "<re.Match object; span=(36, 37), match='A'>\n",
            "<re.Match object; span=(40, 41), match='i'>\n"
          ]
        }
      ]
    },
    {
      "cell_type": "code",
      "source": [
        "print(test_string, end=\"\\n\\n\")\n",
        "\n",
        "pattern  = re.compile(r\"[aeiouAEIOU]\") # 3nd example\n",
        "\n",
        "matches = re.findall(pattern, test_string) #findall()\n",
        "matches"
      ],
      "metadata": {
        "colab": {
          "base_uri": "https://localhost:8080/"
        },
        "id": "3nU4GwSYqbas",
        "outputId": "d7cdde59-ddc4-4351-f68c-8e5db20d6055"
      },
      "execution_count": 39,
      "outputs": [
        {
          "output_type": "stream",
          "name": "stdout",
          "text": [
            "123abc.4567XYZ$89abc123  def%GHIxyz.ABC#i.\n",
            "\n"
          ]
        },
        {
          "output_type": "execute_result",
          "data": {
            "text/plain": [
              "['a', 'a', 'e', 'I', 'A', 'i']"
            ]
          },
          "metadata": {},
          "execution_count": 39
        }
      ]
    },
    {
      "cell_type": "code",
      "source": [
        "# digits"
      ],
      "metadata": {
        "id": "8wZx5gDZqs3z"
      },
      "execution_count": null,
      "outputs": []
    },
    {
      "cell_type": "code",
      "source": [
        "print(test_string, end=\"\\n\\n\")\n",
        "\n",
        "pattern  = re.compile(r\"[0123456789]\") # we can also search for digits from the string/text\n",
        "\n",
        "matches = re.finditer(pattern, test_string)\n",
        "\n",
        "for match in matches:\n",
        "\tprint(match)"
      ],
      "metadata": {
        "colab": {
          "base_uri": "https://localhost:8080/"
        },
        "id": "fLtAUTNfqqbF",
        "outputId": "37ef9717-0fce-4c58-f816-05efeb15cf5c"
      },
      "execution_count": 40,
      "outputs": [
        {
          "output_type": "stream",
          "name": "stdout",
          "text": [
            "123abc.4567XYZ$89abc123  def%GHIxyz.ABC#i.\n",
            "\n",
            "<re.Match object; span=(0, 1), match='1'>\n",
            "<re.Match object; span=(1, 2), match='2'>\n",
            "<re.Match object; span=(2, 3), match='3'>\n",
            "<re.Match object; span=(7, 8), match='4'>\n",
            "<re.Match object; span=(8, 9), match='5'>\n",
            "<re.Match object; span=(9, 10), match='6'>\n",
            "<re.Match object; span=(10, 11), match='7'>\n",
            "<re.Match object; span=(15, 16), match='8'>\n",
            "<re.Match object; span=(16, 17), match='9'>\n",
            "<re.Match object; span=(20, 21), match='1'>\n",
            "<re.Match object; span=(21, 22), match='2'>\n",
            "<re.Match object; span=(22, 23), match='3'>\n"
          ]
        }
      ]
    },
    {
      "cell_type": "code",
      "source": [
        "# even numbers"
      ],
      "metadata": {
        "id": "_f7dvIQdq2Em"
      },
      "execution_count": null,
      "outputs": []
    },
    {
      "cell_type": "code",
      "source": [
        "print(test_string, end=\"\\n\\n\")\n",
        "\n",
        "pattern  = re.compile(r\"[2468]\") # explicitly search for whats in brach char by char\n",
        "\n",
        "matches = re.finditer(pattern, test_string)\n",
        "\n",
        "for match in matches:\n",
        "\tprint(match)"
      ],
      "metadata": {
        "colab": {
          "base_uri": "https://localhost:8080/"
        },
        "id": "oaZz45Cjq7T_",
        "outputId": "277d60a9-0b6c-4aaa-d61f-8002eaedbe17"
      },
      "execution_count": 41,
      "outputs": [
        {
          "output_type": "stream",
          "name": "stdout",
          "text": [
            "123abc.4567XYZ$89abc123  def%GHIxyz.ABC#i.\n",
            "\n",
            "<re.Match object; span=(1, 2), match='2'>\n",
            "<re.Match object; span=(7, 8), match='4'>\n",
            "<re.Match object; span=(9, 10), match='6'>\n",
            "<re.Match object; span=(15, 16), match='8'>\n",
            "<re.Match object; span=(21, 22), match='2'>\n"
          ]
        }
      ]
    },
    {
      "cell_type": "markdown",
      "source": [
        "5.1.2 Character Ranges"
      ],
      "metadata": {
        "id": "wxvMjlf0rJxd"
      }
    },
    {
      "cell_type": "code",
      "source": [
        "# Digits"
      ],
      "metadata": {
        "id": "zUKQKn0lrSg2"
      },
      "execution_count": null,
      "outputs": []
    },
    {
      "cell_type": "code",
      "source": [
        "print(test_string, end=\"\\n\\n\")\n",
        "\n",
        "pattern  = re.compile(r\"[0-9]\") # we can also specify ranges instead of typing whole character set\n",
        "\n",
        "matches = re.finditer(pattern, test_string)\n",
        "\n",
        "for match in matches:\n",
        "\tprint(match)"
      ],
      "metadata": {
        "colab": {
          "base_uri": "https://localhost:8080/"
        },
        "id": "T-mgdaBwrUdC",
        "outputId": "9c1389bb-d295-4e4f-dac5-ecb6cdfa9a7c"
      },
      "execution_count": 42,
      "outputs": [
        {
          "output_type": "stream",
          "name": "stdout",
          "text": [
            "123abc.4567XYZ$89abc123  def%GHIxyz.ABC#i.\n",
            "\n",
            "<re.Match object; span=(0, 1), match='1'>\n",
            "<re.Match object; span=(1, 2), match='2'>\n",
            "<re.Match object; span=(2, 3), match='3'>\n",
            "<re.Match object; span=(7, 8), match='4'>\n",
            "<re.Match object; span=(8, 9), match='5'>\n",
            "<re.Match object; span=(9, 10), match='6'>\n",
            "<re.Match object; span=(10, 11), match='7'>\n",
            "<re.Match object; span=(15, 16), match='8'>\n",
            "<re.Match object; span=(16, 17), match='9'>\n",
            "<re.Match object; span=(20, 21), match='1'>\n",
            "<re.Match object; span=(21, 22), match='2'>\n",
            "<re.Match object; span=(22, 23), match='3'>\n"
          ]
        }
      ]
    },
    {
      "cell_type": "code",
      "source": [
        "# alphabets"
      ],
      "metadata": {
        "id": "N8og6LfprM2W"
      },
      "execution_count": null,
      "outputs": []
    },
    {
      "cell_type": "code",
      "source": [
        "print(test_string, end=\"\\n\\n\")\n",
        "\n",
        "pattern  = re.compile(r\"[a-zA-Z0-9]\") # we can also specify ranges instead of typing whole character set\n",
        "\n",
        "matches = re.finditer(pattern, test_string)\n",
        "\n",
        "for match in matches:\n",
        "\tprint(match)"
      ],
      "metadata": {
        "colab": {
          "base_uri": "https://localhost:8080/"
        },
        "id": "ngIonYOyrbiI",
        "outputId": "497bb4b7-bcfc-4983-86ab-92e9f8795fe2"
      },
      "execution_count": 43,
      "outputs": [
        {
          "output_type": "stream",
          "name": "stdout",
          "text": [
            "123abc.4567XYZ$89abc123  def%GHIxyz.ABC#i.\n",
            "\n",
            "<re.Match object; span=(0, 1), match='1'>\n",
            "<re.Match object; span=(1, 2), match='2'>\n",
            "<re.Match object; span=(2, 3), match='3'>\n",
            "<re.Match object; span=(3, 4), match='a'>\n",
            "<re.Match object; span=(4, 5), match='b'>\n",
            "<re.Match object; span=(5, 6), match='c'>\n",
            "<re.Match object; span=(7, 8), match='4'>\n",
            "<re.Match object; span=(8, 9), match='5'>\n",
            "<re.Match object; span=(9, 10), match='6'>\n",
            "<re.Match object; span=(10, 11), match='7'>\n",
            "<re.Match object; span=(11, 12), match='X'>\n",
            "<re.Match object; span=(12, 13), match='Y'>\n",
            "<re.Match object; span=(13, 14), match='Z'>\n",
            "<re.Match object; span=(15, 16), match='8'>\n",
            "<re.Match object; span=(16, 17), match='9'>\n",
            "<re.Match object; span=(17, 18), match='a'>\n",
            "<re.Match object; span=(18, 19), match='b'>\n",
            "<re.Match object; span=(19, 20), match='c'>\n",
            "<re.Match object; span=(20, 21), match='1'>\n",
            "<re.Match object; span=(21, 22), match='2'>\n",
            "<re.Match object; span=(22, 23), match='3'>\n",
            "<re.Match object; span=(25, 26), match='d'>\n",
            "<re.Match object; span=(26, 27), match='e'>\n",
            "<re.Match object; span=(27, 28), match='f'>\n",
            "<re.Match object; span=(29, 30), match='G'>\n",
            "<re.Match object; span=(30, 31), match='H'>\n",
            "<re.Match object; span=(31, 32), match='I'>\n",
            "<re.Match object; span=(32, 33), match='x'>\n",
            "<re.Match object; span=(33, 34), match='y'>\n",
            "<re.Match object; span=(34, 35), match='z'>\n",
            "<re.Match object; span=(36, 37), match='A'>\n",
            "<re.Match object; span=(37, 38), match='B'>\n",
            "<re.Match object; span=(38, 39), match='C'>\n",
            "<re.Match object; span=(40, 41), match='i'>\n"
          ]
        }
      ]
    },
    {
      "cell_type": "code",
      "source": [
        "# hexadecimal characters\n",
        "# body {\n",
        "#   background-color: #FF5733;\n",
        "# }\n"
      ],
      "metadata": {
        "id": "Bpkag77wrgJ9"
      },
      "execution_count": null,
      "outputs": []
    },
    {
      "cell_type": "code",
      "source": [
        "print(test_string, end=\"\\n\\n\")\n",
        "\n",
        "pattern  = re.compile(r\"[0-9a-fA-F]\")\n",
        "\n",
        "matches = re.finditer(pattern, test_string)\n",
        "\n",
        "for match in matches:\n",
        "\tprint(match)"
      ],
      "metadata": {
        "colab": {
          "base_uri": "https://localhost:8080/"
        },
        "id": "O6N4KiaMrltp",
        "outputId": "8efd44d7-943d-4385-f5d2-e8725c409ad1"
      },
      "execution_count": 44,
      "outputs": [
        {
          "output_type": "stream",
          "name": "stdout",
          "text": [
            "123abc.4567XYZ$89abc123  def%GHIxyz.ABC#i.\n",
            "\n",
            "<re.Match object; span=(0, 1), match='1'>\n",
            "<re.Match object; span=(1, 2), match='2'>\n",
            "<re.Match object; span=(2, 3), match='3'>\n",
            "<re.Match object; span=(3, 4), match='a'>\n",
            "<re.Match object; span=(4, 5), match='b'>\n",
            "<re.Match object; span=(5, 6), match='c'>\n",
            "<re.Match object; span=(7, 8), match='4'>\n",
            "<re.Match object; span=(8, 9), match='5'>\n",
            "<re.Match object; span=(9, 10), match='6'>\n",
            "<re.Match object; span=(10, 11), match='7'>\n",
            "<re.Match object; span=(15, 16), match='8'>\n",
            "<re.Match object; span=(16, 17), match='9'>\n",
            "<re.Match object; span=(17, 18), match='a'>\n",
            "<re.Match object; span=(18, 19), match='b'>\n",
            "<re.Match object; span=(19, 20), match='c'>\n",
            "<re.Match object; span=(20, 21), match='1'>\n",
            "<re.Match object; span=(21, 22), match='2'>\n",
            "<re.Match object; span=(22, 23), match='3'>\n",
            "<re.Match object; span=(25, 26), match='d'>\n",
            "<re.Match object; span=(26, 27), match='e'>\n",
            "<re.Match object; span=(27, 28), match='f'>\n",
            "<re.Match object; span=(36, 37), match='A'>\n",
            "<re.Match object; span=(37, 38), match='B'>\n",
            "<re.Match object; span=(38, 39), match='C'>\n"
          ]
        }
      ]
    },
    {
      "cell_type": "markdown",
      "source": [
        "5.1.3 Character Negation"
      ],
      "metadata": {
        "id": "02cvZh2grvN-"
      }
    },
    {
      "cell_type": "code",
      "source": [
        "# consonents"
      ],
      "metadata": {
        "id": "6d5vnT2wrq53"
      },
      "execution_count": null,
      "outputs": []
    },
    {
      "cell_type": "code",
      "source": [
        "print(test_string, end=\"\\n\\n\")\n",
        "\n",
        "pattern  = re.compile(r\"[^aeiouAEIOU0-9%$#. ]\") # for Negation use carat symbol in beginning only in square brackets\n",
        "\n",
        "matches = re.finditer(pattern, test_string)\n",
        "\n",
        "for match in matches:\n",
        "\tprint(match)"
      ],
      "metadata": {
        "colab": {
          "base_uri": "https://localhost:8080/"
        },
        "id": "aY6M-4vErqkH",
        "outputId": "0a5f056e-726c-4e22-b5c2-b6ebb6ac3229"
      },
      "execution_count": 45,
      "outputs": [
        {
          "output_type": "stream",
          "name": "stdout",
          "text": [
            "123abc.4567XYZ$89abc123  def%GHIxyz.ABC#i.\n",
            "\n",
            "<re.Match object; span=(4, 5), match='b'>\n",
            "<re.Match object; span=(5, 6), match='c'>\n",
            "<re.Match object; span=(11, 12), match='X'>\n",
            "<re.Match object; span=(12, 13), match='Y'>\n",
            "<re.Match object; span=(13, 14), match='Z'>\n",
            "<re.Match object; span=(18, 19), match='b'>\n",
            "<re.Match object; span=(19, 20), match='c'>\n",
            "<re.Match object; span=(25, 26), match='d'>\n",
            "<re.Match object; span=(27, 28), match='f'>\n",
            "<re.Match object; span=(29, 30), match='G'>\n",
            "<re.Match object; span=(30, 31), match='H'>\n",
            "<re.Match object; span=(32, 33), match='x'>\n",
            "<re.Match object; span=(33, 34), match='y'>\n",
            "<re.Match object; span=(34, 35), match='z'>\n",
            "<re.Match object; span=(37, 38), match='B'>\n",
            "<re.Match object; span=(38, 39), match='C'>\n"
          ]
        }
      ]
    },
    {
      "cell_type": "code",
      "source": [
        "# Not even numbers"
      ],
      "metadata": {
        "id": "B7uiZ2whr5iV"
      },
      "execution_count": null,
      "outputs": []
    },
    {
      "cell_type": "code",
      "source": [
        "print(test_string, end=\"\\n\\n\")\n",
        "\n",
        "pattern  = re.compile(r\"[^02468a-zA-Z%$#. ]\") #Negation of even numbers\n",
        "\n",
        "matches = re.finditer(pattern, test_string)\n",
        "\n",
        "for match in matches:\n",
        "\tprint(match)"
      ],
      "metadata": {
        "colab": {
          "base_uri": "https://localhost:8080/"
        },
        "id": "wkbQIcGSr5JF",
        "outputId": "3806198a-7631-4aea-f670-0756998d940a"
      },
      "execution_count": 46,
      "outputs": [
        {
          "output_type": "stream",
          "name": "stdout",
          "text": [
            "123abc.4567XYZ$89abc123  def%GHIxyz.ABC#i.\n",
            "\n",
            "<re.Match object; span=(0, 1), match='1'>\n",
            "<re.Match object; span=(2, 3), match='3'>\n",
            "<re.Match object; span=(8, 9), match='5'>\n",
            "<re.Match object; span=(10, 11), match='7'>\n",
            "<re.Match object; span=(16, 17), match='9'>\n",
            "<re.Match object; span=(20, 21), match='1'>\n",
            "<re.Match object; span=(22, 23), match='3'>\n"
          ]
        }
      ]
    },
    {
      "cell_type": "code",
      "source": [
        "# special characters"
      ],
      "metadata": {
        "id": "ndkr2egPsJpU"
      },
      "execution_count": null,
      "outputs": []
    },
    {
      "cell_type": "code",
      "source": [
        "print(test_string, end=\"\\n\\n\")\n",
        "\n",
        "pattern  = re.compile(r\"[^a-zA-Z0-9. ]\") #Special characters searching\n",
        "\n",
        "matches = re.finditer(pattern, test_string)\n",
        "\n",
        "for match in matches:\n",
        "\tprint(match)"
      ],
      "metadata": {
        "colab": {
          "base_uri": "https://localhost:8080/"
        },
        "id": "POWsbGxfsVcN",
        "outputId": "142a5cfb-66e1-400c-b159-cce1c2c3c0f9"
      },
      "execution_count": 47,
      "outputs": [
        {
          "output_type": "stream",
          "name": "stdout",
          "text": [
            "123abc.4567XYZ$89abc123  def%GHIxyz.ABC#i.\n",
            "\n",
            "<re.Match object; span=(14, 15), match='$'>\n",
            "<re.Match object; span=(28, 29), match='%'>\n",
            "<re.Match object; span=(39, 40), match='#'>\n"
          ]
        }
      ]
    },
    {
      "cell_type": "markdown",
      "source": [],
      "metadata": {
        "id": "rW05X5SJsuDR"
      }
    },
    {
      "cell_type": "markdown",
      "metadata": {
        "id": "d124124d-2d2e-44ed-8137-138b18276cf8"
      },
      "source": [
        "### 5.2 Pre-defined Character Sets"
      ]
    },
    {
      "cell_type": "code",
      "source": [],
      "metadata": {
        "id": "TVNbYwAIsi8J"
      },
      "execution_count": null,
      "outputs": []
    },
    {
      "cell_type": "code",
      "execution_count": 48,
      "metadata": {
        "id": "2328f091-c3c4-427b-9fb5-b0ff604a2cb3"
      },
      "outputs": [],
      "source": [
        "test_string_1 = \"123abc.4567XYZ$89abc123 def%GHIxyz .ABC#i.\"\n",
        "\n",
        "test_string_2 = \"123abc.4567\\nXYZ$89abc123 def%GHI\\nxyz .ABC#i.\"\n",
        "\n",
        "test_string_3 = 'heyhello 123_ heyho hohey'"
      ]
    },
    {
      "cell_type": "code",
      "execution_count": null,
      "metadata": {
        "id": "c34e32b8-3285-4ef0-9b6b-b921b36456f4"
      },
      "outputs": [],
      "source": [
        "# digits"
      ]
    },
    {
      "cell_type": "code",
      "execution_count": 49,
      "metadata": {
        "colab": {
          "base_uri": "https://localhost:8080/"
        },
        "id": "8ae6e0ba-10fe-478e-91cb-7e312aea25a4",
        "outputId": "7d6d5ea4-2594-481a-bf0e-41abe96762f7"
      },
      "outputs": [
        {
          "output_type": "stream",
          "name": "stdout",
          "text": [
            "123abc.4567XYZ$89abc123 def%GHIxyz .ABC#i.\n",
            "\n",
            "<re.Match object; span=(0, 1), match='1'>\n",
            "<re.Match object; span=(1, 2), match='2'>\n",
            "<re.Match object; span=(2, 3), match='3'>\n",
            "<re.Match object; span=(7, 8), match='4'>\n",
            "<re.Match object; span=(8, 9), match='5'>\n",
            "<re.Match object; span=(9, 10), match='6'>\n",
            "<re.Match object; span=(10, 11), match='7'>\n",
            "<re.Match object; span=(15, 16), match='8'>\n",
            "<re.Match object; span=(16, 17), match='9'>\n",
            "<re.Match object; span=(20, 21), match='1'>\n",
            "<re.Match object; span=(21, 22), match='2'>\n",
            "<re.Match object; span=(22, 23), match='3'>\n"
          ]
        }
      ],
      "source": [
        "print(test_string_1, end=\"\\n\\n\")\n",
        "\n",
        "pattern  = re.compile(r\"[\\d]\") #\\d includes search for digits in text or string\n",
        "\n",
        "matches = re.finditer(pattern, test_string_1)\n",
        "\n",
        "for match in matches:\n",
        "\tprint(match)"
      ]
    },
    {
      "cell_type": "code",
      "source": [
        "# not digits"
      ],
      "metadata": {
        "id": "Zngw1bCms6H_"
      },
      "execution_count": null,
      "outputs": []
    },
    {
      "cell_type": "code",
      "source": [
        "print(test_string_1, end=\"\\n\\n\")\n",
        "\n",
        "pattern  = re.compile(r\"[\\D]\") #\\D search for everything other than digits in text or string\n",
        "\n",
        "matches = re.finditer(pattern, test_string_1)\n",
        "\n",
        "for match in matches:\n",
        "\tprint(match)"
      ],
      "metadata": {
        "colab": {
          "base_uri": "https://localhost:8080/"
        },
        "id": "NpPnrP3ntU7Y",
        "outputId": "e4e9cd70-5e15-4b93-8eaf-b0afd9810922"
      },
      "execution_count": 50,
      "outputs": [
        {
          "output_type": "stream",
          "name": "stdout",
          "text": [
            "123abc.4567XYZ$89abc123 def%GHIxyz .ABC#i.\n",
            "\n",
            "<re.Match object; span=(3, 4), match='a'>\n",
            "<re.Match object; span=(4, 5), match='b'>\n",
            "<re.Match object; span=(5, 6), match='c'>\n",
            "<re.Match object; span=(6, 7), match='.'>\n",
            "<re.Match object; span=(11, 12), match='X'>\n",
            "<re.Match object; span=(12, 13), match='Y'>\n",
            "<re.Match object; span=(13, 14), match='Z'>\n",
            "<re.Match object; span=(14, 15), match='$'>\n",
            "<re.Match object; span=(17, 18), match='a'>\n",
            "<re.Match object; span=(18, 19), match='b'>\n",
            "<re.Match object; span=(19, 20), match='c'>\n",
            "<re.Match object; span=(23, 24), match=' '>\n",
            "<re.Match object; span=(24, 25), match='d'>\n",
            "<re.Match object; span=(25, 26), match='e'>\n",
            "<re.Match object; span=(26, 27), match='f'>\n",
            "<re.Match object; span=(27, 28), match='%'>\n",
            "<re.Match object; span=(28, 29), match='G'>\n",
            "<re.Match object; span=(29, 30), match='H'>\n",
            "<re.Match object; span=(30, 31), match='I'>\n",
            "<re.Match object; span=(31, 32), match='x'>\n",
            "<re.Match object; span=(32, 33), match='y'>\n",
            "<re.Match object; span=(33, 34), match='z'>\n",
            "<re.Match object; span=(34, 35), match=' '>\n",
            "<re.Match object; span=(35, 36), match='.'>\n",
            "<re.Match object; span=(36, 37), match='A'>\n",
            "<re.Match object; span=(37, 38), match='B'>\n",
            "<re.Match object; span=(38, 39), match='C'>\n",
            "<re.Match object; span=(39, 40), match='#'>\n",
            "<re.Match object; span=(40, 41), match='i'>\n",
            "<re.Match object; span=(41, 42), match='.'>\n"
          ]
        }
      ]
    },
    {
      "cell_type": "code",
      "source": [
        "# whitespaces"
      ],
      "metadata": {
        "id": "8-mqKwVUtbPU"
      },
      "execution_count": null,
      "outputs": []
    },
    {
      "cell_type": "code",
      "source": [
        "print(test_string_2, end=\"\\n\\n\")\n",
        "\n",
        "pattern  = re.compile(r\"[\\s]\") #search for whitespaces, space, tab , newline characters comes under whitespaces\n",
        "\n",
        "matches = re.finditer(pattern, test_string_2)\n",
        "\n",
        "for match in matches:\n",
        "\tprint(match)"
      ],
      "metadata": {
        "colab": {
          "base_uri": "https://localhost:8080/"
        },
        "id": "phfLl9U4tbEP",
        "outputId": "0883b6c7-434c-41ad-f0ce-d5e8dcb45a6c"
      },
      "execution_count": 51,
      "outputs": [
        {
          "output_type": "stream",
          "name": "stdout",
          "text": [
            "123abc.4567\n",
            "XYZ$89abc123 def%GHI\n",
            "xyz .ABC#i.\n",
            "\n",
            "<re.Match object; span=(11, 12), match='\\n'>\n",
            "<re.Match object; span=(24, 25), match=' '>\n",
            "<re.Match object; span=(32, 33), match='\\n'>\n",
            "<re.Match object; span=(36, 37), match=' '>\n"
          ]
        }
      ]
    },
    {
      "cell_type": "code",
      "source": [
        "# not whitespaces"
      ],
      "metadata": {
        "id": "TkhzIR-0tjTn"
      },
      "execution_count": null,
      "outputs": []
    },
    {
      "cell_type": "code",
      "source": [
        "print(test_string_2, end=\"\\n\\n\")\n",
        "\n",
        "pattern  = re.compile(r\"[\\S]\") #search for other than whitespaces, space, tab , newline characters comes under whitespaces\n",
        "\n",
        "matches = re.finditer(pattern, test_string_2)\n",
        "\n",
        "for match in matches:\n",
        "\tprint(match)"
      ],
      "metadata": {
        "colab": {
          "base_uri": "https://localhost:8080/"
        },
        "id": "BcrvNhuYtjJ4",
        "outputId": "a1ab9279-da58-491b-d730-0081753dedaa"
      },
      "execution_count": 52,
      "outputs": [
        {
          "output_type": "stream",
          "name": "stdout",
          "text": [
            "123abc.4567\n",
            "XYZ$89abc123 def%GHI\n",
            "xyz .ABC#i.\n",
            "\n",
            "<re.Match object; span=(0, 1), match='1'>\n",
            "<re.Match object; span=(1, 2), match='2'>\n",
            "<re.Match object; span=(2, 3), match='3'>\n",
            "<re.Match object; span=(3, 4), match='a'>\n",
            "<re.Match object; span=(4, 5), match='b'>\n",
            "<re.Match object; span=(5, 6), match='c'>\n",
            "<re.Match object; span=(6, 7), match='.'>\n",
            "<re.Match object; span=(7, 8), match='4'>\n",
            "<re.Match object; span=(8, 9), match='5'>\n",
            "<re.Match object; span=(9, 10), match='6'>\n",
            "<re.Match object; span=(10, 11), match='7'>\n",
            "<re.Match object; span=(12, 13), match='X'>\n",
            "<re.Match object; span=(13, 14), match='Y'>\n",
            "<re.Match object; span=(14, 15), match='Z'>\n",
            "<re.Match object; span=(15, 16), match='$'>\n",
            "<re.Match object; span=(16, 17), match='8'>\n",
            "<re.Match object; span=(17, 18), match='9'>\n",
            "<re.Match object; span=(18, 19), match='a'>\n",
            "<re.Match object; span=(19, 20), match='b'>\n",
            "<re.Match object; span=(20, 21), match='c'>\n",
            "<re.Match object; span=(21, 22), match='1'>\n",
            "<re.Match object; span=(22, 23), match='2'>\n",
            "<re.Match object; span=(23, 24), match='3'>\n",
            "<re.Match object; span=(25, 26), match='d'>\n",
            "<re.Match object; span=(26, 27), match='e'>\n",
            "<re.Match object; span=(27, 28), match='f'>\n",
            "<re.Match object; span=(28, 29), match='%'>\n",
            "<re.Match object; span=(29, 30), match='G'>\n",
            "<re.Match object; span=(30, 31), match='H'>\n",
            "<re.Match object; span=(31, 32), match='I'>\n",
            "<re.Match object; span=(33, 34), match='x'>\n",
            "<re.Match object; span=(34, 35), match='y'>\n",
            "<re.Match object; span=(35, 36), match='z'>\n",
            "<re.Match object; span=(37, 38), match='.'>\n",
            "<re.Match object; span=(38, 39), match='A'>\n",
            "<re.Match object; span=(39, 40), match='B'>\n",
            "<re.Match object; span=(40, 41), match='C'>\n",
            "<re.Match object; span=(41, 42), match='#'>\n",
            "<re.Match object; span=(42, 43), match='i'>\n",
            "<re.Match object; span=(43, 44), match='.'>\n"
          ]
        }
      ]
    },
    {
      "cell_type": "code",
      "source": [
        "# alphanumeric"
      ],
      "metadata": {
        "id": "Iblxs5JNtrL4"
      },
      "execution_count": null,
      "outputs": []
    },
    {
      "cell_type": "code",
      "source": [
        "print(test_string_2, end=\"\\n\\n\")\n",
        "\n",
        "pattern  = re.compile(r\"[\\w]\") # search for alphabets+nuumerical characters in text\n",
        "\n",
        "matches = re.finditer(pattern, test_string_2)\n",
        "\n",
        "for match in matches:\n",
        "\tprint(match)"
      ],
      "metadata": {
        "colab": {
          "base_uri": "https://localhost:8080/"
        },
        "id": "6JYOfUVNtw34",
        "outputId": "1d8f142a-894c-4a8c-e054-6f6bf05a6755"
      },
      "execution_count": 53,
      "outputs": [
        {
          "output_type": "stream",
          "name": "stdout",
          "text": [
            "123abc.4567\n",
            "XYZ$89abc123 def%GHI\n",
            "xyz .ABC#i.\n",
            "\n",
            "<re.Match object; span=(0, 1), match='1'>\n",
            "<re.Match object; span=(1, 2), match='2'>\n",
            "<re.Match object; span=(2, 3), match='3'>\n",
            "<re.Match object; span=(3, 4), match='a'>\n",
            "<re.Match object; span=(4, 5), match='b'>\n",
            "<re.Match object; span=(5, 6), match='c'>\n",
            "<re.Match object; span=(7, 8), match='4'>\n",
            "<re.Match object; span=(8, 9), match='5'>\n",
            "<re.Match object; span=(9, 10), match='6'>\n",
            "<re.Match object; span=(10, 11), match='7'>\n",
            "<re.Match object; span=(12, 13), match='X'>\n",
            "<re.Match object; span=(13, 14), match='Y'>\n",
            "<re.Match object; span=(14, 15), match='Z'>\n",
            "<re.Match object; span=(16, 17), match='8'>\n",
            "<re.Match object; span=(17, 18), match='9'>\n",
            "<re.Match object; span=(18, 19), match='a'>\n",
            "<re.Match object; span=(19, 20), match='b'>\n",
            "<re.Match object; span=(20, 21), match='c'>\n",
            "<re.Match object; span=(21, 22), match='1'>\n",
            "<re.Match object; span=(22, 23), match='2'>\n",
            "<re.Match object; span=(23, 24), match='3'>\n",
            "<re.Match object; span=(25, 26), match='d'>\n",
            "<re.Match object; span=(26, 27), match='e'>\n",
            "<re.Match object; span=(27, 28), match='f'>\n",
            "<re.Match object; span=(29, 30), match='G'>\n",
            "<re.Match object; span=(30, 31), match='H'>\n",
            "<re.Match object; span=(31, 32), match='I'>\n",
            "<re.Match object; span=(33, 34), match='x'>\n",
            "<re.Match object; span=(34, 35), match='y'>\n",
            "<re.Match object; span=(35, 36), match='z'>\n",
            "<re.Match object; span=(38, 39), match='A'>\n",
            "<re.Match object; span=(39, 40), match='B'>\n",
            "<re.Match object; span=(40, 41), match='C'>\n",
            "<re.Match object; span=(42, 43), match='i'>\n"
          ]
        }
      ]
    },
    {
      "cell_type": "code",
      "source": [
        "# not alphanumeric"
      ],
      "metadata": {
        "id": "RPgj0zx6t1GV"
      },
      "execution_count": null,
      "outputs": []
    },
    {
      "cell_type": "code",
      "source": [
        "print(test_string_2, end=\"\\n\\n\")\n",
        "\n",
        "pattern  = re.compile(r\"[\\W]\") # search for other than alphabets+nuumerical characters in text which includes \\n and special chars and whitespaces\n",
        "\n",
        "matches = re.finditer(pattern, test_string_2)\n",
        "\n",
        "for match in matches:\n",
        "\tprint(match)"
      ],
      "metadata": {
        "colab": {
          "base_uri": "https://localhost:8080/"
        },
        "id": "YHHshWyPt45Q",
        "outputId": "09302222-ae66-45c1-9f9b-cfbbd53c19c8"
      },
      "execution_count": 54,
      "outputs": [
        {
          "output_type": "stream",
          "name": "stdout",
          "text": [
            "123abc.4567\n",
            "XYZ$89abc123 def%GHI\n",
            "xyz .ABC#i.\n",
            "\n",
            "<re.Match object; span=(6, 7), match='.'>\n",
            "<re.Match object; span=(11, 12), match='\\n'>\n",
            "<re.Match object; span=(15, 16), match='$'>\n",
            "<re.Match object; span=(24, 25), match=' '>\n",
            "<re.Match object; span=(28, 29), match='%'>\n",
            "<re.Match object; span=(32, 33), match='\\n'>\n",
            "<re.Match object; span=(36, 37), match=' '>\n",
            "<re.Match object; span=(37, 38), match='.'>\n",
            "<re.Match object; span=(41, 42), match='#'>\n",
            "<re.Match object; span=(43, 44), match='.'>\n"
          ]
        }
      ]
    },
    {
      "cell_type": "code",
      "source": [
        "# word boundary"
      ],
      "metadata": {
        "id": "yAbx2ML_t_yh"
      },
      "execution_count": null,
      "outputs": []
    },
    {
      "cell_type": "code",
      "source": [
        "test_string_3"
      ],
      "metadata": {
        "colab": {
          "base_uri": "https://localhost:8080/",
          "height": 35
        },
        "id": "ROaK8dXDuEmv",
        "outputId": "137f0ebd-9c27-41ef-a865-624ae092a4d6"
      },
      "execution_count": 55,
      "outputs": [
        {
          "output_type": "execute_result",
          "data": {
            "text/plain": [
              "'heyhello 123_ heyho hohey'"
            ],
            "application/vnd.google.colaboratory.intrinsic+json": {
              "type": "string"
            }
          },
          "metadata": {},
          "execution_count": 55
        }
      ]
    },
    {
      "cell_type": "code",
      "source": [
        "pattern = re.compile(r\"hey\")\n",
        "\n",
        "matches = re.finditer(pattern, test_string_3)\n",
        "\n",
        "for match in matches:\n",
        "\tprint(match)"
      ],
      "metadata": {
        "colab": {
          "base_uri": "https://localhost:8080/"
        },
        "id": "wD2b3LjZuJy8",
        "outputId": "e910b6ed-3529-423e-868c-11f5406e57cf"
      },
      "execution_count": 56,
      "outputs": [
        {
          "output_type": "stream",
          "name": "stdout",
          "text": [
            "<re.Match object; span=(0, 3), match='hey'>\n",
            "<re.Match object; span=(14, 17), match='hey'>\n",
            "<re.Match object; span=(22, 25), match='hey'>\n"
          ]
        }
      ]
    },
    {
      "cell_type": "code",
      "source": [
        "pattern = re.compile(r\"\\bhey\\b\")\n",
        "# pattern = re.compile(r\"hey\\b\")\n",
        "# pattern = re.compile(r\"\\bhey\")\n",
        "\n",
        "matches = re.finditer(pattern, test_string_3)\n",
        "\n",
        "for match in matches:\n",
        "\tprint(match)"
      ],
      "metadata": {
        "id": "aKpdTIFVuPPA"
      },
      "execution_count": 57,
      "outputs": []
    },
    {
      "cell_type": "markdown",
      "source": [
        "## 6. Quantifiers\n"
      ],
      "metadata": {
        "id": "KJwqsK5WuXQb"
      }
    },
    {
      "cell_type": "code",
      "source": [
        "test_string_1 = \"no no noo nooo noooothing noo\"\n",
        "\n",
        "test_string_2 = \"The colour of the sky and the color of the ocean are different.\"\n",
        "\n",
        "test_string_3 = \"We can use either http or https to generate URLs.\"\n",
        "\n",
        "test_string_4 = \"aaXaaaXaaaaXaaaaaX\"\n",
        "\n",
        "test_string_5 = \"<div>First div</div><div>Second div</div>\""
      ],
      "metadata": {
        "id": "t_zV2LFguPAn"
      },
      "execution_count": 58,
      "outputs": []
    },
    {
      "cell_type": "markdown",
      "source": [
        "6.1 Greedy\n",
        "\n"
      ],
      "metadata": {
        "id": "Min7M4HsukHA"
      }
    },
    {
      "cell_type": "code",
      "source": [
        "test_string_1"
      ],
      "metadata": {
        "colab": {
          "base_uri": "https://localhost:8080/",
          "height": 35
        },
        "id": "upUrd8rmulWw",
        "outputId": "f87e8da2-10ea-4ed4-9f28-b07d8dba6323"
      },
      "execution_count": 59,
      "outputs": [
        {
          "output_type": "execute_result",
          "data": {
            "text/plain": [
              "'no no noo nooo noooothing noo'"
            ],
            "application/vnd.google.colaboratory.intrinsic+json": {
              "type": "string"
            }
          },
          "metadata": {},
          "execution_count": 59
        }
      ]
    },
    {
      "cell_type": "code",
      "source": [
        " #* is for 0 or more occurences of preceding(pichewala) char\n",
        "pattern = re.compile(r\"noo*\")\n",
        "\n",
        "matches = re.finditer(pattern, test_string_1) # it will check if no(0-o), noo(1-o), nooo(2-o's) a.... and so on until string get terminated\n",
        "\n",
        "for match in matches:\n",
        "\tprint(match)"
      ],
      "metadata": {
        "colab": {
          "base_uri": "https://localhost:8080/"
        },
        "id": "L_rXlJF_ufdQ",
        "outputId": "d1d9468b-3939-487f-849f-59edd7a736b1"
      },
      "execution_count": 60,
      "outputs": [
        {
          "output_type": "stream",
          "name": "stdout",
          "text": [
            "<re.Match object; span=(0, 2), match='no'>\n",
            "<re.Match object; span=(3, 5), match='no'>\n",
            "<re.Match object; span=(6, 9), match='noo'>\n",
            "<re.Match object; span=(10, 14), match='nooo'>\n",
            "<re.Match object; span=(15, 20), match='noooo'>\n",
            "<re.Match object; span=(26, 29), match='noo'>\n"
          ]
        }
      ]
    },
    {
      "cell_type": "code",
      "source": [
        " #+ is for 1 or more occurences of preceding(pichewala) char\n",
        "pattern = re.compile(r\"noo+\")\n",
        "\n",
        "matches = re.finditer(pattern, test_string_1) # it will check if noo(1-o), nooo(2-o's) a.... and so on until string get terminated\n",
        "\n",
        "for match in matches:\n",
        "\tprint(match)"
      ],
      "metadata": {
        "colab": {
          "base_uri": "https://localhost:8080/"
        },
        "id": "UeCWb9OmuxlA",
        "outputId": "bd270597-b2a4-490c-9079-cdf1e52618ad"
      },
      "execution_count": 61,
      "outputs": [
        {
          "output_type": "stream",
          "name": "stdout",
          "text": [
            "<re.Match object; span=(6, 9), match='noo'>\n",
            "<re.Match object; span=(10, 14), match='nooo'>\n",
            "<re.Match object; span=(15, 20), match='noooo'>\n",
            "<re.Match object; span=(26, 29), match='noo'>\n"
          ]
        }
      ]
    },
    {
      "cell_type": "code",
      "source": [
        "# ? is for 0 or 1 occurence of preceding(pichewala) char\n",
        "print(test_string_2, end=\"\\n\\n\")\n",
        "\n",
        "pattern = re.compile(r\"colou?r\") # colour, color/ if u is present none or once in string\n",
        "\n",
        "matches = re.finditer(pattern, test_string_2)\n",
        "\n",
        "for match in matches:\n",
        "\tprint(match)"
      ],
      "metadata": {
        "colab": {
          "base_uri": "https://localhost:8080/"
        },
        "id": "bG3l5VP3u3uv",
        "outputId": "214b61b6-3672-441c-c538-971be5c1dd6d"
      },
      "execution_count": 62,
      "outputs": [
        {
          "output_type": "stream",
          "name": "stdout",
          "text": [
            "The colour of the sky and the color of the ocean are different.\n",
            "\n",
            "<re.Match object; span=(4, 10), match='colour'>\n",
            "<re.Match object; span=(30, 35), match='color'>\n"
          ]
        }
      ]
    },
    {
      "cell_type": "code",
      "source": [
        "# 2nd example of using greedy qunatifier '?'\n",
        "print(test_string_3, end=\"\\n\\n\")\n",
        "\n",
        "pattern = re.compile(r\"https?\") # http, https\n",
        "\n",
        "matches = re.finditer(pattern, test_string_3)\n",
        "\n",
        "for match in matches:\n",
        "\tprint(match)"
      ],
      "metadata": {
        "colab": {
          "base_uri": "https://localhost:8080/"
        },
        "id": "ds2V3WFlu9fA",
        "outputId": "cfce9bb9-3ad3-43b4-fb4e-78cb415b9161"
      },
      "execution_count": 63,
      "outputs": [
        {
          "output_type": "stream",
          "name": "stdout",
          "text": [
            "We can use either http or https to generate URLs.\n",
            "\n",
            "<re.Match object; span=(18, 22), match='http'>\n",
            "<re.Match object; span=(26, 31), match='https'>\n"
          ]
        }
      ]
    },
    {
      "cell_type": "code",
      "source": [
        "# {n} search for exactly n number of occurences in string\n",
        "test_string_4 = 'aaXaaaXaaaaXaaaaaaX'\n",
        "print(test_string_4, end=\"\\n\\n\")\n",
        "\n",
        "pattern = re.compile(r\"a{3}\") # it will search for a's occurring continously thrice\n",
        "\n",
        "matches = re.finditer(pattern, test_string_4)\n",
        "\n",
        "for match in matches:\n",
        "\tprint(match)"
      ],
      "metadata": {
        "colab": {
          "base_uri": "https://localhost:8080/"
        },
        "id": "KU8C0VLavEOJ",
        "outputId": "ab36526c-ea34-43e4-e2b9-3a693874d3ef"
      },
      "execution_count": 64,
      "outputs": [
        {
          "output_type": "stream",
          "name": "stdout",
          "text": [
            "aaXaaaXaaaaXaaaaaaX\n",
            "\n",
            "<re.Match object; span=(3, 6), match='aaa'>\n",
            "<re.Match object; span=(7, 10), match='aaa'>\n",
            "<re.Match object; span=(12, 15), match='aaa'>\n",
            "<re.Match object; span=(15, 18), match='aaa'>\n"
          ]
        }
      ]
    },
    {
      "cell_type": "code",
      "source": [
        "# {n,m} search for exactly at least n and at most m number of occurences in string\n",
        "print(test_string_4, end=\"\\n\\n\")\n",
        "\n",
        "pattern = re.compile(r\"a{2,5}\") # first search if a is present 5 times or 4 times or 3 or 2\n",
        "\n",
        "matches = re.finditer(pattern, test_string_4)\n",
        "\n",
        "for match in matches:\n",
        "\tprint(match)"
      ],
      "metadata": {
        "colab": {
          "base_uri": "https://localhost:8080/"
        },
        "id": "AyTA5BUovL46",
        "outputId": "d0173936-fb17-4fb9-8752-ef23f844ff57"
      },
      "execution_count": 65,
      "outputs": [
        {
          "output_type": "stream",
          "name": "stdout",
          "text": [
            "aaXaaaXaaaaXaaaaaaX\n",
            "\n",
            "<re.Match object; span=(0, 2), match='aa'>\n",
            "<re.Match object; span=(3, 6), match='aaa'>\n",
            "<re.Match object; span=(7, 11), match='aaaa'>\n",
            "<re.Match object; span=(12, 17), match='aaaaa'>\n"
          ]
        }
      ]
    },
    {
      "cell_type": "markdown",
      "source": [
        "6.2 Lazy"
      ],
      "metadata": {
        "id": "hQZjqw-Cvmsx"
      }
    },
    {
      "cell_type": "code",
      "source": [
        " ? after greedy quantifier search for minimum number of occurrence of that pattern in string\n",
        "print(test_string_1, end=\"\\n\\n\")\n",
        "\n",
        "pattern = re.compile(r\"noo*?\") # ? after greedy quantifier search is equivalent to lazy\n",
        "\"\"\"\n",
        "it will search for no first and return them only if found other it will search for noo  and\n",
        "terminate if found otherwise nooo\n",
        "\"\"\"\n",
        "\n",
        "matches = re.finditer(pattern, test_string_1)\n",
        "\n",
        "for match in matches:\n",
        "\tprint(match)"
      ],
      "metadata": {
        "colab": {
          "base_uri": "https://localhost:8080/"
        },
        "id": "pVfrYdMsve5C",
        "outputId": "cc5621b5-506a-43ee-b477-3b2231d7a199"
      },
      "execution_count": 66,
      "outputs": [
        {
          "output_type": "stream",
          "name": "stdout",
          "text": [
            "Object ` after greedy quantifier search for minimum number of occurrence of that pattern in string` not found.\n",
            "no no noo nooo noooothing noo\n",
            "\n",
            "<re.Match object; span=(0, 2), match='no'>\n",
            "<re.Match object; span=(3, 5), match='no'>\n",
            "<re.Match object; span=(6, 8), match='no'>\n",
            "<re.Match object; span=(10, 12), match='no'>\n",
            "<re.Match object; span=(15, 17), match='no'>\n",
            "<re.Match object; span=(26, 28), match='no'>\n"
          ]
        }
      ]
    },
    {
      "cell_type": "code",
      "source": [
        "# +?\n",
        "print(test_string_1, end=\"\\n\\n\")\n",
        "\n",
        "pattern = re.compile(r\"noo+?\") # + search for 1 or more , ? after that tells it is a lazy quantifier so it will search for 1 first then if not terminated then 2..3..4 etc\n",
        "\n",
        "matches = re.finditer(pattern, test_string_1)\n",
        "\n",
        "for match in matches:\n",
        "\tprint(match)"
      ],
      "metadata": {
        "colab": {
          "base_uri": "https://localhost:8080/"
        },
        "id": "fulUbfZRvrvq",
        "outputId": "9364e012-4876-4745-99c3-c2d3a469eca1"
      },
      "execution_count": 67,
      "outputs": [
        {
          "output_type": "stream",
          "name": "stdout",
          "text": [
            "no no noo nooo noooothing noo\n",
            "\n",
            "<re.Match object; span=(6, 9), match='noo'>\n",
            "<re.Match object; span=(10, 13), match='noo'>\n",
            "<re.Match object; span=(15, 18), match='noo'>\n",
            "<re.Match object; span=(26, 29), match='noo'>\n"
          ]
        }
      ]
    },
    {
      "cell_type": "code",
      "source": [
        "#{n,m}?\n",
        "print(test_string_4, end=\"\\n\\n\")\n",
        "\n",
        "pattern = re.compile(r\"a{2,5}?\") # {n,m} search for n till m , ? after that tells it is a lazy quantifier so it will search for 2 first then if not terminated then 3..4..5 and terminate\n",
        "#❗❗ difference in greedy and lazy qunatifier here\n",
        "matches = re.finditer(pattern, test_string_4)\n",
        "\n",
        "for match in matches:\n",
        "\tprint(match)"
      ],
      "metadata": {
        "colab": {
          "base_uri": "https://localhost:8080/"
        },
        "id": "XF30PaxVvxSJ",
        "outputId": "362811aa-1a11-4225-bbea-fbdddf643b26"
      },
      "execution_count": 68,
      "outputs": [
        {
          "output_type": "stream",
          "name": "stdout",
          "text": [
            "aaXaaaXaaaaXaaaaaaX\n",
            "\n",
            "<re.Match object; span=(0, 2), match='aa'>\n",
            "<re.Match object; span=(3, 5), match='aa'>\n",
            "<re.Match object; span=(7, 9), match='aa'>\n",
            "<re.Match object; span=(9, 11), match='aa'>\n",
            "<re.Match object; span=(12, 14), match='aa'>\n",
            "<re.Match object; span=(14, 16), match='aa'>\n",
            "<re.Match object; span=(16, 18), match='aa'>\n"
          ]
        }
      ]
    },
    {
      "cell_type": "code",
      "source": [
        "print(test_string_5, end=\"\\n\\n\")\n",
        "\n",
        "pattern = re.compile(r\"<\\w+>.*</\\w+>\") # \\w search for alphanumeric characters .* will tell to match any number of occurence\n",
        "\n",
        "matches = re.findall(pattern, test_string_5)\n",
        "matches"
      ],
      "metadata": {
        "colab": {
          "base_uri": "https://localhost:8080/"
        },
        "id": "iMNzcqtKv296",
        "outputId": "6f61abf6-891a-4a72-e3e8-4d645e97bb9e"
      },
      "execution_count": 69,
      "outputs": [
        {
          "output_type": "stream",
          "name": "stdout",
          "text": [
            "<div>First div</div><div>Second div</div>\n",
            "\n"
          ]
        },
        {
          "output_type": "execute_result",
          "data": {
            "text/plain": [
              "['<div>First div</div><div>Second div</div>']"
            ]
          },
          "metadata": {},
          "execution_count": 69
        }
      ]
    },
    {
      "cell_type": "code",
      "source": [
        "print(test_string_5, end=\"\\n\\n\")\n",
        "\n",
        "pattern = re.compile(r\"<\\w+>.*?</\\w+>\") # \\w search for alphanumeric characters .* will tell to match 0 or 1 number of occurence\n",
        "\n",
        "matches = re.findall(pattern, test_string_5)\n",
        "matches"
      ],
      "metadata": {
        "colab": {
          "base_uri": "https://localhost:8080/"
        },
        "id": "pm6wOH15v7jR",
        "outputId": "07107bea-8a02-444d-c818-3ba9b980e710"
      },
      "execution_count": 70,
      "outputs": [
        {
          "output_type": "stream",
          "name": "stdout",
          "text": [
            "<div>First div</div><div>Second div</div>\n",
            "\n"
          ]
        },
        {
          "output_type": "execute_result",
          "data": {
            "text/plain": [
              "['<div>First div</div>', '<div>Second div</div>']"
            ]
          },
          "metadata": {},
          "execution_count": 70
        }
      ]
    }
  ]
}